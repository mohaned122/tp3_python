{
 "cells": [
  {
   "cell_type": "code",
   "id": "initial_id",
   "metadata": {
    "collapsed": true,
    "ExecuteTime": {
     "end_time": "2024-11-01T09:39:02.574460Z",
     "start_time": "2024-11-01T09:39:02.563244Z"
    }
   },
   "source": "maliste=[22, \"coucou\", 33, \"z\", 'a', 'b', 111, 99]",
   "outputs": [],
   "execution_count": 1
  },
  {
   "metadata": {
    "ExecuteTime": {
     "end_time": "2024-11-01T09:39:06.682077Z",
     "start_time": "2024-11-01T09:39:06.673733Z"
    }
   },
   "cell_type": "code",
   "source": "maliste",
   "id": "90034ff0f88db759",
   "outputs": [
    {
     "data": {
      "text/plain": [
       "[22, 'coucou', 33, 'z', 'a', 'b', 111, 99]"
      ]
     },
     "execution_count": 2,
     "metadata": {},
     "output_type": "execute_result"
    }
   ],
   "execution_count": 2
  },
  {
   "metadata": {
    "ExecuteTime": {
     "end_time": "2024-11-01T09:39:56.306798Z",
     "start_time": "2024-11-01T09:39:56.294135Z"
    }
   },
   "cell_type": "code",
   "source": [
    "#affichage de nombre de d'element\n",
    "len(maliste)"
   ],
   "id": "51566699a585ac6c",
   "outputs": [
    {
     "data": {
      "text/plain": [
       "8"
      ]
     },
     "execution_count": 4,
     "metadata": {},
     "output_type": "execute_result"
    }
   ],
   "execution_count": 4
  },
  {
   "metadata": {
    "ExecuteTime": {
     "end_time": "2024-11-01T09:41:16.800667Z",
     "start_time": "2024-11-01T09:41:16.785338Z"
    }
   },
   "cell_type": "code",
   "source": [
    "#rechercher 'z' dans maliste\n",
    "'z' in maliste"
   ],
   "id": "2ca7e4f7980c6671",
   "outputs": [
    {
     "data": {
      "text/plain": [
       "True"
      ]
     },
     "execution_count": 5,
     "metadata": {},
     "output_type": "execute_result"
    }
   ],
   "execution_count": 5
  },
  {
   "metadata": {
    "ExecuteTime": {
     "end_time": "2024-11-01T09:42:18.481297Z",
     "start_time": "2024-11-01T09:42:18.476825Z"
    }
   },
   "cell_type": "code",
   "source": [
    "#mise à jour la valeur de case 3\n",
    "maliste[3]=1024"
   ],
   "id": "8eafff77e443e559",
   "outputs": [],
   "execution_count": 6
  },
  {
   "metadata": {
    "ExecuteTime": {
     "end_time": "2024-11-01T09:42:50.616214Z",
     "start_time": "2024-11-01T09:42:50.610961Z"
    }
   },
   "cell_type": "code",
   "source": [
    "#controlle que la valeur changer\n",
    "maliste"
   ],
   "id": "1fe105529116615",
   "outputs": [
    {
     "data": {
      "text/plain": [
       "[22, 'coucou', 33, 1024, 'a', 'b', 111, 99]"
      ]
     },
     "execution_count": 7,
     "metadata": {},
     "output_type": "execute_result"
    }
   ],
   "execution_count": 7
  },
  {
   "metadata": {
    "ExecuteTime": {
     "end_time": "2024-11-01T09:45:06.861868Z",
     "start_time": "2024-11-01T09:45:06.857852Z"
    }
   },
   "cell_type": "code",
   "source": [
    "#ajoute à la fin de la liste les valeur 33 et 'hello'\n",
    "maliste.append(33)\n",
    "maliste.append('hello')"
   ],
   "id": "8fbd9ccc1528354a",
   "outputs": [],
   "execution_count": 8
  },
  {
   "metadata": {
    "ExecuteTime": {
     "end_time": "2024-11-01T09:45:13.679724Z",
     "start_time": "2024-11-01T09:45:13.672452Z"
    }
   },
   "cell_type": "code",
   "source": "maliste",
   "id": "f9919fa3035a37",
   "outputs": [
    {
     "data": {
      "text/plain": [
       "[22, 'coucou', 33, 1024, 'a', 'b', 111, 99, 33, 'hello']"
      ]
     },
     "execution_count": 9,
     "metadata": {},
     "output_type": "execute_result"
    }
   ],
   "execution_count": 9
  },
  {
   "metadata": {
    "ExecuteTime": {
     "end_time": "2024-11-01T09:45:41.297026Z",
     "start_time": "2024-11-01T09:45:41.286558Z"
    }
   },
   "cell_type": "code",
   "source": [
    "#le fonction remove permet de supprimer seulement la premier occurence\n",
    "maliste.remove(33)"
   ],
   "id": "b74133e82bd36898",
   "outputs": [],
   "execution_count": 10
  },
  {
   "metadata": {
    "ExecuteTime": {
     "end_time": "2024-11-01T09:45:51.033993Z",
     "start_time": "2024-11-01T09:45:51.028888Z"
    }
   },
   "cell_type": "code",
   "source": "maliste",
   "id": "3883ca8462954ffa",
   "outputs": [
    {
     "data": {
      "text/plain": [
       "[22, 'coucou', 1024, 'a', 'b', 111, 99, 33, 'hello']"
      ]
     },
     "execution_count": 11,
     "metadata": {},
     "output_type": "execute_result"
    }
   ],
   "execution_count": 11
  },
  {
   "metadata": {
    "ExecuteTime": {
     "end_time": "2024-11-01T09:47:13.219649Z",
     "start_time": "2024-11-01T09:47:13.208652Z"
    }
   },
   "cell_type": "code",
   "source": "33 in maliste",
   "id": "691ebe0292dd1ac5",
   "outputs": [
    {
     "data": {
      "text/plain": [
       "True"
      ]
     },
     "execution_count": 12,
     "metadata": {},
     "output_type": "execute_result"
    }
   ],
   "execution_count": 12
  },
  {
   "metadata": {
    "ExecuteTime": {
     "end_time": "2024-11-01T09:48:50.267941Z",
     "start_time": "2024-11-01T09:48:50.261320Z"
    }
   },
   "cell_type": "code",
   "source": [
    "#supprimer à la fin\n",
    "maliste.pop()\n",
    "#cette fonction permet supprimer la case d'index 1 et retourne la valeur supprimer\n",
    "maliste.pop(1)"
   ],
   "id": "d3fa8c50c06d7e5c",
   "outputs": [
    {
     "data": {
      "text/plain": [
       "'coucou'"
      ]
     },
     "execution_count": 13,
     "metadata": {},
     "output_type": "execute_result"
    }
   ],
   "execution_count": 13
  },
  {
   "metadata": {
    "ExecuteTime": {
     "end_time": "2024-11-01T09:49:10.608330Z",
     "start_time": "2024-11-01T09:49:10.601849Z"
    }
   },
   "cell_type": "code",
   "source": "maliste",
   "id": "5d31ee466575f471",
   "outputs": [
    {
     "data": {
      "text/plain": [
       "[22, 1024, 'a', 'b', 111, 99, 33]"
      ]
     },
     "execution_count": 14,
     "metadata": {},
     "output_type": "execute_result"
    }
   ],
   "execution_count": 14
  },
  {
   "metadata": {
    "ExecuteTime": {
     "end_time": "2024-11-01T09:50:50.965039Z",
     "start_time": "2024-11-01T09:50:50.959468Z"
    }
   },
   "cell_type": "code",
   "source": [
    "#retourne l'index de case qui contient la valeur 'a'\n",
    "maliste.index('a')"
   ],
   "id": "5c524cb57ffb2619",
   "outputs": [
    {
     "data": {
      "text/plain": [
       "2"
      ]
     },
     "execution_count": 15,
     "metadata": {},
     "output_type": "execute_result"
    }
   ],
   "execution_count": 15
  },
  {
   "metadata": {
    "ExecuteTime": {
     "end_time": "2024-11-01T09:51:46.490621Z",
     "start_time": "2024-11-01T09:51:46.483423Z"
    }
   },
   "cell_type": "code",
   "source": "maliste.index(111)",
   "id": "2cabfbababfd6374",
   "outputs": [
    {
     "data": {
      "text/plain": [
       "4"
      ]
     },
     "execution_count": 16,
     "metadata": {},
     "output_type": "execute_result"
    }
   ],
   "execution_count": 16
  },
  {
   "metadata": {
    "ExecuteTime": {
     "end_time": "2024-11-01T09:52:13.519269Z",
     "start_time": "2024-11-01T09:52:13.508100Z"
    }
   },
   "cell_type": "code",
   "source": [
    "#erreur parceque on a des element quelquon \n",
    "maliste.sort()"
   ],
   "id": "612fd01735ced2e7",
   "outputs": [
    {
     "ename": "TypeError",
     "evalue": "'<' not supported between instances of 'str' and 'int'",
     "output_type": "error",
     "traceback": [
      "\u001B[1;31m---------------------------------------------------------------------------\u001B[0m",
      "\u001B[1;31mTypeError\u001B[0m                                 Traceback (most recent call last)",
      "Cell \u001B[1;32mIn[17], line 1\u001B[0m\n\u001B[1;32m----> 1\u001B[0m \u001B[43mmaliste\u001B[49m\u001B[38;5;241;43m.\u001B[39;49m\u001B[43msort\u001B[49m\u001B[43m(\u001B[49m\u001B[43m)\u001B[49m\n",
      "\u001B[1;31mTypeError\u001B[0m: '<' not supported between instances of 'str' and 'int'"
     ]
    }
   ],
   "execution_count": 17
  },
  {
   "metadata": {
    "ExecuteTime": {
     "end_time": "2024-11-01T09:54:20.819685Z",
     "start_time": "2024-11-01T09:54:20.809394Z"
    }
   },
   "cell_type": "code",
   "source": [
    "#supprimer deux valeur a et b\n",
    "maliste.remove('a')\n",
    "maliste.remove('b')"
   ],
   "id": "25892a7f923d715f",
   "outputs": [],
   "execution_count": 18
  },
  {
   "metadata": {
    "ExecuteTime": {
     "end_time": "2024-11-01T09:54:29.185695Z",
     "start_time": "2024-11-01T09:54:29.179348Z"
    }
   },
   "cell_type": "code",
   "source": "maliste",
   "id": "9cdbe97da7d32814",
   "outputs": [
    {
     "data": {
      "text/plain": [
       "[22, 1024, 111, 99, 33]"
      ]
     },
     "execution_count": 19,
     "metadata": {},
     "output_type": "execute_result"
    }
   ],
   "execution_count": 19
  },
  {
   "metadata": {
    "ExecuteTime": {
     "end_time": "2024-11-01T09:55:11.733279Z",
     "start_time": "2024-11-01T09:55:11.727177Z"
    }
   },
   "cell_type": "code",
   "source": "maliste.sort()",
   "id": "7fc3e2dc39f64cc6",
   "outputs": [],
   "execution_count": 20
  },
  {
   "metadata": {
    "ExecuteTime": {
     "end_time": "2024-11-01T09:55:17.797266Z",
     "start_time": "2024-11-01T09:55:17.793361Z"
    }
   },
   "cell_type": "code",
   "source": "maliste",
   "id": "992ebcb7636a3310",
   "outputs": [
    {
     "data": {
      "text/plain": [
       "[22, 33, 99, 111, 1024]"
      ]
     },
     "execution_count": 21,
     "metadata": {},
     "output_type": "execute_result"
    }
   ],
   "execution_count": 21
  },
  {
   "metadata": {
    "ExecuteTime": {
     "end_time": "2024-11-01T09:55:34.617505Z",
     "start_time": "2024-11-01T09:55:34.611727Z"
    }
   },
   "cell_type": "code",
   "source": "uneliste=('z' ,'a', 'd', 'aa')",
   "id": "ef381eb3b71bf44e",
   "outputs": [],
   "execution_count": 22
  },
  {
   "metadata": {
    "ExecuteTime": {
     "end_time": "2024-11-01T09:55:54.279885Z",
     "start_time": "2024-11-01T09:55:54.265345Z"
    }
   },
   "cell_type": "code",
   "source": [
    "#cette action n'est pas possible puisque le tuple est unchangable\n",
    "uneliste.sort()\n",
    "uneliste"
   ],
   "id": "a4d639e63b1b6e8a",
   "outputs": [
    {
     "ename": "AttributeError",
     "evalue": "'tuple' object has no attribute 'sort'",
     "output_type": "error",
     "traceback": [
      "\u001B[1;31m---------------------------------------------------------------------------\u001B[0m",
      "\u001B[1;31mAttributeError\u001B[0m                            Traceback (most recent call last)",
      "Cell \u001B[1;32mIn[23], line 1\u001B[0m\n\u001B[1;32m----> 1\u001B[0m \u001B[43muneliste\u001B[49m\u001B[38;5;241;43m.\u001B[39;49m\u001B[43msort\u001B[49m()\n\u001B[0;32m      2\u001B[0m uneliste\n",
      "\u001B[1;31mAttributeError\u001B[0m: 'tuple' object has no attribute 'sort'"
     ]
    }
   ],
   "execution_count": 23
  },
  {
   "metadata": {
    "ExecuteTime": {
     "end_time": "2024-11-01T09:57:24.920533Z",
     "start_time": "2024-11-01T09:57:24.914873Z"
    }
   },
   "cell_type": "code",
   "source": [
    "MAJ= ('A', 'B', 'C')\n",
    "mini= ('a', 'b', 'c')"
   ],
   "id": "b80bd14d2583ae6c",
   "outputs": [],
   "execution_count": 24
  },
  {
   "metadata": {
    "ExecuteTime": {
     "end_time": "2024-11-01T10:00:37.181666Z",
     "start_time": "2024-11-01T10:00:37.176156Z"
    }
   },
   "cell_type": "code",
   "source": "for M,m in zip(MAJ, mini): print(M,' est le majus',m)",
   "id": "21f51bc488498ce2",
   "outputs": [
    {
     "name": "stdout",
     "output_type": "stream",
     "text": [
      "A  est le majus a\n",
      "B  est le majus b\n",
      "C  est le majus c\n"
     ]
    }
   ],
   "execution_count": 25
  },
  {
   "metadata": {
    "ExecuteTime": {
     "end_time": "2024-11-01T10:01:37.197046Z",
     "start_time": "2024-11-01T10:01:37.191961Z"
    }
   },
   "cell_type": "code",
   "source": [
    "#x**2 for x in (2, 4, 6) c'est l'équivalence de for x in (2, 4, 6): x**2\n",
    "#on cree une map de valeur x²\n",
    "{x: x**2 for x in (2, 4, 6)}"
   ],
   "id": "b66f3784b2e70dad",
   "outputs": [
    {
     "data": {
      "text/plain": [
       "{2: 4, 4: 16, 6: 36}"
      ]
     },
     "execution_count": 27,
     "metadata": {},
     "output_type": "execute_result"
    }
   ],
   "execution_count": 27
  },
  {
   "metadata": {
    "ExecuteTime": {
     "end_time": "2024-11-01T10:07:10.341020Z",
     "start_time": "2024-11-01T10:07:10.327301Z"
    }
   },
   "cell_type": "code",
   "source": "maliste",
   "id": "2e821641d3ab979e",
   "outputs": [
    {
     "data": {
      "text/plain": [
       "[22, 33, 99, 111, 1024]"
      ]
     },
     "execution_count": 28,
     "metadata": {},
     "output_type": "execute_result"
    }
   ],
   "execution_count": 28
  },
  {
   "metadata": {
    "ExecuteTime": {
     "end_time": "2024-11-01T10:08:25.496893Z",
     "start_time": "2024-11-01T10:08:25.486891Z"
    }
   },
   "cell_type": "code",
   "source": "maliste[0:3]",
   "id": "f796de81783dfaee",
   "outputs": [
    {
     "data": {
      "text/plain": [
       "[22, 33, 99]"
      ]
     },
     "execution_count": 29,
     "metadata": {},
     "output_type": "execute_result"
    }
   ],
   "execution_count": 29
  },
  {
   "metadata": {
    "ExecuteTime": {
     "end_time": "2024-11-01T10:09:26.761214Z",
     "start_time": "2024-11-01T10:09:26.753304Z"
    }
   },
   "cell_type": "code",
   "source": [
    "#cette code permet de donner le premier valeur de la liste maliste[:4]\n",
    "maliste[0:4:2]"
   ],
   "id": "feb40e60e24c53fc",
   "outputs": [
    {
     "data": {
      "text/plain": [
       "[22, 99]"
      ]
     },
     "execution_count": 30,
     "metadata": {},
     "output_type": "execute_result"
    }
   ],
   "execution_count": 30
  },
  {
   "metadata": {
    "ExecuteTime": {
     "end_time": "2024-11-01T10:10:29.635050Z",
     "start_time": "2024-11-01T10:10:29.630960Z"
    }
   },
   "cell_type": "code",
   "source": "maliste[:3]",
   "id": "9a5c6a7d53b9e9a7",
   "outputs": [
    {
     "data": {
      "text/plain": [
       "[22, 33, 99]"
      ]
     },
     "execution_count": 31,
     "metadata": {},
     "output_type": "execute_result"
    }
   ],
   "execution_count": 31
  },
  {
   "metadata": {
    "ExecuteTime": {
     "end_time": "2024-11-01T10:10:45.662204Z",
     "start_time": "2024-11-01T10:10:45.655620Z"
    }
   },
   "cell_type": "code",
   "source": "maliste[:]",
   "id": "3b32a2cbed7a7d2e",
   "outputs": [
    {
     "data": {
      "text/plain": [
       "[22, 33, 99, 111, 1024]"
      ]
     },
     "execution_count": 32,
     "metadata": {},
     "output_type": "execute_result"
    }
   ],
   "execution_count": 32
  },
  {
   "metadata": {
    "ExecuteTime": {
     "end_time": "2024-11-01T10:10:59.783274Z",
     "start_time": "2024-11-01T10:10:59.775118Z"
    }
   },
   "cell_type": "code",
   "source": [
    "#sequence[start:stop:step]\n",
    "maliste[::2]"
   ],
   "id": "5f7e458024887ee1",
   "outputs": [
    {
     "data": {
      "text/plain": [
       "[22, 99, 1024]"
      ]
     },
     "execution_count": 33,
     "metadata": {},
     "output_type": "execute_result"
    }
   ],
   "execution_count": 33
  },
  {
   "metadata": {
    "ExecuteTime": {
     "end_time": "2024-11-01T10:13:23.923748Z",
     "start_time": "2024-11-01T10:13:23.917704Z"
    }
   },
   "cell_type": "code",
   "source": [
    "#sequence[start:stop:step]\n",
    "maliste[::-1]"
   ],
   "id": "f353a71ceca3399b",
   "outputs": [
    {
     "data": {
      "text/plain": [
       "[1024, 111, 99, 33, 22]"
      ]
     },
     "execution_count": 36,
     "metadata": {},
     "output_type": "execute_result"
    }
   ],
   "execution_count": 36
  },
  {
   "metadata": {
    "ExecuteTime": {
     "end_time": "2024-11-01T10:15:36.328741Z",
     "start_time": "2024-11-01T10:15:36.322705Z"
    }
   },
   "cell_type": "code",
   "source": [
    "#valeur de l'index 0\n",
    "maliste[0]"
   ],
   "id": "aba0db3f7a39e41c",
   "outputs": [
    {
     "data": {
      "text/plain": [
       "22"
      ]
     },
     "execution_count": 37,
     "metadata": {},
     "output_type": "execute_result"
    }
   ],
   "execution_count": 37
  },
  {
   "metadata": {
    "ExecuteTime": {
     "end_time": "2024-11-01T10:15:47.608362Z",
     "start_time": "2024-11-01T10:15:47.603691Z"
    }
   },
   "cell_type": "code",
   "source": [
    "#valeur de l'index 1\n",
    "maliste[1]"
   ],
   "id": "ba9495f8ef8bdc2",
   "outputs": [
    {
     "data": {
      "text/plain": [
       "33"
      ]
     },
     "execution_count": 38,
     "metadata": {},
     "output_type": "execute_result"
    }
   ],
   "execution_count": 38
  },
  {
   "metadata": {
    "ExecuteTime": {
     "end_time": "2024-11-01T10:16:06.037731Z",
     "start_time": "2024-11-01T10:16:06.030298Z"
    }
   },
   "cell_type": "code",
   "source": [
    "#valeur de l'index -5 ou la premier valeur \n",
    "maliste[-5]"
   ],
   "id": "8d72c227157eaaee",
   "outputs": [
    {
     "data": {
      "text/plain": [
       "22"
      ]
     },
     "execution_count": 39,
     "metadata": {},
     "output_type": "execute_result"
    }
   ],
   "execution_count": 39
  },
  {
   "metadata": {
    "ExecuteTime": {
     "end_time": "2024-11-01T10:16:19.484749Z",
     "start_time": "2024-11-01T10:16:19.480445Z"
    }
   },
   "cell_type": "code",
   "source": "len(maliste)",
   "id": "8ab4f4823451f3e8",
   "outputs": [
    {
     "data": {
      "text/plain": [
       "5"
      ]
     },
     "execution_count": 40,
     "metadata": {},
     "output_type": "execute_result"
    }
   ],
   "execution_count": 40
  },
  {
   "metadata": {
    "ExecuteTime": {
     "end_time": "2024-11-01T10:16:31.177706Z",
     "start_time": "2024-11-01T10:16:31.171832Z"
    }
   },
   "cell_type": "code",
   "source": "maliste",
   "id": "7b67253ce2ff8095",
   "outputs": [
    {
     "data": {
      "text/plain": [
       "[22, 33, 99, 111, 1024]"
      ]
     },
     "execution_count": 41,
     "metadata": {},
     "output_type": "execute_result"
    }
   ],
   "execution_count": 41
  },
  {
   "metadata": {
    "ExecuteTime": {
     "end_time": "2024-11-01T10:16:41.634646Z",
     "start_time": "2024-11-01T10:16:41.614944Z"
    }
   },
   "cell_type": "code",
   "source": [
    "#list index out of range\n",
    "maliste[-6]"
   ],
   "id": "e24624b6d4ae2bf2",
   "outputs": [
    {
     "ename": "IndexError",
     "evalue": "list index out of range",
     "output_type": "error",
     "traceback": [
      "\u001B[1;31m---------------------------------------------------------------------------\u001B[0m",
      "\u001B[1;31mIndexError\u001B[0m                                Traceback (most recent call last)",
      "Cell \u001B[1;32mIn[42], line 1\u001B[0m\n\u001B[1;32m----> 1\u001B[0m \u001B[43mmaliste\u001B[49m\u001B[43m[\u001B[49m\u001B[38;5;241;43m-\u001B[39;49m\u001B[38;5;241;43m6\u001B[39;49m\u001B[43m]\u001B[49m\n",
      "\u001B[1;31mIndexError\u001B[0m: list index out of range"
     ]
    }
   ],
   "execution_count": 42
  },
  {
   "metadata": {
    "ExecuteTime": {
     "end_time": "2024-11-01T10:17:00.132807Z",
     "start_time": "2024-11-01T10:17:00.128390Z"
    }
   },
   "cell_type": "code",
   "source": [
    "#valeur de l'index de dernier valeur de la liste\n",
    "maliste[-1]"
   ],
   "id": "dc513d7a6c029ebc",
   "outputs": [
    {
     "data": {
      "text/plain": [
       "1024"
      ]
     },
     "execution_count": 44,
     "metadata": {},
     "output_type": "execute_result"
    }
   ],
   "execution_count": 44
  },
  {
   "metadata": {
    "ExecuteTime": {
     "end_time": "2024-11-01T10:17:20.377371Z",
     "start_time": "2024-11-01T10:17:20.363034Z"
    }
   },
   "cell_type": "code",
   "source": [
    "#sequence[start:stop:step] par default start est 0 et step = 1\n",
    "maliste[:3]"
   ],
   "id": "29f81e47fd1093a3",
   "outputs": [
    {
     "data": {
      "text/plain": [
       "[22, 33, 99]"
      ]
     },
     "execution_count": 45,
     "metadata": {},
     "output_type": "execute_result"
    }
   ],
   "execution_count": 45
  },
  {
   "metadata": {
    "ExecuteTime": {
     "end_time": "2024-11-01T10:17:30.894860Z",
     "start_time": "2024-11-01T10:17:30.890457Z"
    }
   },
   "cell_type": "code",
   "source": [
    "#sequence[start:stop:step] par default start est 0 et step = 1\n",
    "maliste[2:]"
   ],
   "id": "bd2e71cf9869a469",
   "outputs": [
    {
     "data": {
      "text/plain": [
       "[99, 111, 1024]"
      ]
     },
     "execution_count": 46,
     "metadata": {},
     "output_type": "execute_result"
    }
   ],
   "execution_count": 46
  },
  {
   "metadata": {
    "ExecuteTime": {
     "end_time": "2024-11-01T10:18:14.164934Z",
     "start_time": "2024-11-01T10:18:14.160350Z"
    }
   },
   "cell_type": "code",
   "source": [
    "#mise à jour de dernier element\n",
    "maliste[-1]=\"b\""
   ],
   "id": "d4022f1f3e955342",
   "outputs": [],
   "execution_count": 47
  },
  {
   "metadata": {
    "ExecuteTime": {
     "end_time": "2024-11-01T10:18:20.290890Z",
     "start_time": "2024-11-01T10:18:20.280517Z"
    }
   },
   "cell_type": "code",
   "source": "maliste",
   "id": "3ae3c50bd7bfa5fb",
   "outputs": [
    {
     "data": {
      "text/plain": [
       "[22, 33, 99, 111, 'b']"
      ]
     },
     "execution_count": 48,
     "metadata": {},
     "output_type": "execute_result"
    }
   ],
   "execution_count": 48
  },
  {
   "metadata": {
    "ExecuteTime": {
     "end_time": "2024-11-01T10:26:16.676254Z",
     "start_time": "2024-11-01T10:26:16.669348Z"
    }
   },
   "cell_type": "code",
   "source": "a=1400",
   "id": "e413a939871627ec",
   "outputs": [],
   "execution_count": 49
  },
  {
   "metadata": {
    "ExecuteTime": {
     "end_time": "2024-11-01T10:26:31.296488Z",
     "start_time": "2024-11-01T10:26:31.283734Z"
    }
   },
   "cell_type": "code",
   "source": "b=a",
   "id": "aee5d7579e6f246",
   "outputs": [],
   "execution_count": 50
  },
  {
   "metadata": {
    "ExecuteTime": {
     "end_time": "2024-11-01T10:26:35.656090Z",
     "start_time": "2024-11-01T10:26:35.646685Z"
    }
   },
   "cell_type": "code",
   "source": "b",
   "id": "28efe2881c4ea2c6",
   "outputs": [
    {
     "data": {
      "text/plain": [
       "1400"
      ]
     },
     "execution_count": 51,
     "metadata": {},
     "output_type": "execute_result"
    }
   ],
   "execution_count": 51
  },
  {
   "metadata": {
    "ExecuteTime": {
     "end_time": "2024-11-01T10:26:44.272503Z",
     "start_time": "2024-11-01T10:26:44.267316Z"
    }
   },
   "cell_type": "code",
   "source": "b == a",
   "id": "34a258b3c93b144",
   "outputs": [
    {
     "data": {
      "text/plain": [
       "True"
      ]
     },
     "execution_count": 52,
     "metadata": {},
     "output_type": "execute_result"
    }
   ],
   "execution_count": 52
  },
  {
   "metadata": {
    "ExecuteTime": {
     "end_time": "2024-11-01T10:28:11.514049Z",
     "start_time": "2024-11-01T10:28:11.508794Z"
    }
   },
   "cell_type": "code",
   "source": [
    "#is est une mot cle permet de valider si les deux variable pointer sur la méme case memoire\n",
    "b is a"
   ],
   "id": "ec172ab7ce270693",
   "outputs": [
    {
     "data": {
      "text/plain": [
       "True"
      ]
     },
     "execution_count": 53,
     "metadata": {},
     "output_type": "execute_result"
    }
   ],
   "execution_count": 53
  },
  {
   "metadata": {
    "ExecuteTime": {
     "end_time": "2024-11-01T10:30:41.792379Z",
     "start_time": "2024-11-01T10:30:41.788962Z"
    }
   },
   "cell_type": "code",
   "source": "b+=2",
   "id": "920e37b6983875ff",
   "outputs": [],
   "execution_count": 54
  },
  {
   "metadata": {
    "ExecuteTime": {
     "end_time": "2024-11-01T10:30:44.989638Z",
     "start_time": "2024-11-01T10:30:44.983849Z"
    }
   },
   "cell_type": "code",
   "source": "a",
   "id": "46df6e304cc95e5f",
   "outputs": [
    {
     "data": {
      "text/plain": [
       "1400"
      ]
     },
     "execution_count": 55,
     "metadata": {},
     "output_type": "execute_result"
    }
   ],
   "execution_count": 55
  },
  {
   "metadata": {
    "ExecuteTime": {
     "end_time": "2024-11-01T10:31:14.348493Z",
     "start_time": "2024-11-01T10:31:14.345387Z"
    }
   },
   "cell_type": "code",
   "source": "c=1402",
   "id": "a2bf0208ea412234",
   "outputs": [],
   "execution_count": 57
  },
  {
   "metadata": {
    "ExecuteTime": {
     "end_time": "2024-11-01T10:31:29.143415Z",
     "start_time": "2024-11-01T10:31:29.136235Z"
    }
   },
   "cell_type": "code",
   "source": "c is b",
   "id": "d3ed8e06a1a97f63",
   "outputs": [
    {
     "data": {
      "text/plain": [
       "False"
      ]
     },
     "execution_count": 58,
     "metadata": {},
     "output_type": "execute_result"
    }
   ],
   "execution_count": 58
  },
  {
   "metadata": {
    "ExecuteTime": {
     "end_time": "2024-11-01T10:31:34.936727Z",
     "start_time": "2024-11-01T10:31:34.927964Z"
    }
   },
   "cell_type": "code",
   "source": "b",
   "id": "72442d5714f02b92",
   "outputs": [
    {
     "data": {
      "text/plain": [
       "1402"
      ]
     },
     "execution_count": 59,
     "metadata": {},
     "output_type": "execute_result"
    }
   ],
   "execution_count": 59
  },
  {
   "metadata": {
    "ExecuteTime": {
     "end_time": "2024-11-01T10:31:56.547525Z",
     "start_time": "2024-11-01T10:31:56.542117Z"
    }
   },
   "cell_type": "code",
   "source": "b is a",
   "id": "1d31f4332aa834ea",
   "outputs": [
    {
     "data": {
      "text/plain": [
       "False"
      ]
     },
     "execution_count": 60,
     "metadata": {},
     "output_type": "execute_result"
    }
   ],
   "execution_count": 60
  },
  {
   "metadata": {
    "ExecuteTime": {
     "end_time": "2024-11-01T10:32:07.899571Z",
     "start_time": "2024-11-01T10:32:07.896268Z"
    }
   },
   "cell_type": "code",
   "source": "c is a",
   "id": "b789d1fdefa61485",
   "outputs": [
    {
     "data": {
      "text/plain": [
       "False"
      ]
     },
     "execution_count": 61,
     "metadata": {},
     "output_type": "execute_result"
    }
   ],
   "execution_count": 61
  },
  {
   "metadata": {
    "ExecuteTime": {
     "end_time": "2024-11-01T10:38:37.926536Z",
     "start_time": "2024-11-01T10:38:37.915058Z"
    }
   },
   "cell_type": "code",
   "source": "maliste",
   "id": "268fab0b0c528514",
   "outputs": [
    {
     "data": {
      "text/plain": [
       "[22, 33, 99, 111, 'b']"
      ]
     },
     "execution_count": 62,
     "metadata": {},
     "output_type": "execute_result"
    }
   ],
   "execution_count": 62
  },
  {
   "metadata": {
    "ExecuteTime": {
     "end_time": "2024-11-01T10:38:54.282398Z",
     "start_time": "2024-11-01T10:38:54.275070Z"
    }
   },
   "cell_type": "code",
   "source": "list2 = maliste",
   "id": "2d25dc77e49993e3",
   "outputs": [],
   "execution_count": 63
  },
  {
   "metadata": {
    "ExecuteTime": {
     "end_time": "2024-11-01T10:39:34.609253Z",
     "start_time": "2024-11-01T10:39:34.603662Z"
    }
   },
   "cell_type": "code",
   "source": [
    "#is est une mot cle permet de valider si les deux variable pointer sur la méme case memoire\n",
    "list2 is maliste"
   ],
   "id": "dc3c8e6f2be2acfc",
   "outputs": [
    {
     "data": {
      "text/plain": [
       "True"
      ]
     },
     "execution_count": 65,
     "metadata": {},
     "output_type": "execute_result"
    }
   ],
   "execution_count": 65
  },
  {
   "metadata": {
    "ExecuteTime": {
     "end_time": "2024-11-01T10:42:18.257540Z",
     "start_time": "2024-11-01T10:42:18.252442Z"
    }
   },
   "cell_type": "code",
   "source": [
    "#le changement ici se aplliquer sur les deux list\n",
    "list2[1] = \"neveau\""
   ],
   "id": "1f7c2df2e5494213",
   "outputs": [],
   "execution_count": 66
  },
  {
   "metadata": {
    "ExecuteTime": {
     "end_time": "2024-11-01T10:42:24.760202Z",
     "start_time": "2024-11-01T10:42:24.750125Z"
    }
   },
   "cell_type": "code",
   "source": "list2",
   "id": "53c8277421c26fcc",
   "outputs": [
    {
     "data": {
      "text/plain": [
       "[22, 'neveau', 99, 111, 'b']"
      ]
     },
     "execution_count": 67,
     "metadata": {},
     "output_type": "execute_result"
    }
   ],
   "execution_count": 67
  },
  {
   "metadata": {
    "ExecuteTime": {
     "end_time": "2024-11-01T10:42:30.420397Z",
     "start_time": "2024-11-01T10:42:30.415406Z"
    }
   },
   "cell_type": "code",
   "source": "maliste",
   "id": "706c30cdbdb8c214",
   "outputs": [
    {
     "data": {
      "text/plain": [
       "[22, 'neveau', 99, 111, 'b']"
      ]
     },
     "execution_count": 68,
     "metadata": {},
     "output_type": "execute_result"
    }
   ],
   "execution_count": 68
  },
  {
   "metadata": {
    "ExecuteTime": {
     "end_time": "2024-11-01T10:45:50.681674Z",
     "start_time": "2024-11-01T10:45:50.677367Z"
    }
   },
   "cell_type": "code",
   "source": [
    "liste3 = maliste.copy()\n",
    "liste4 = list(maliste)\n",
    "liste5 = maliste[:]"
   ],
   "id": "3d0adf5f9861228a",
   "outputs": [],
   "execution_count": 69
  },
  {
   "metadata": {
    "ExecuteTime": {
     "end_time": "2024-11-01T10:47:11.310514Z",
     "start_time": "2024-11-01T10:47:11.297368Z"
    }
   },
   "cell_type": "code",
   "source": "(liste3 is maliste) and (liste4 is maliste) and (liste5 is maliste)",
   "id": "f83b69503bbd3531",
   "outputs": [
    {
     "data": {
      "text/plain": [
       "False"
      ]
     },
     "execution_count": 73,
     "metadata": {},
     "output_type": "execute_result"
    }
   ],
   "execution_count": 73
  },
  {
   "metadata": {
    "ExecuteTime": {
     "end_time": "2024-11-01T10:47:46.640335Z",
     "start_time": "2024-11-01T10:47:46.627838Z"
    }
   },
   "cell_type": "code",
   "source": "liste3[4]=\"surprise\"",
   "id": "dbffb395512f31f5",
   "outputs": [],
   "execution_count": 75
  },
  {
   "metadata": {
    "ExecuteTime": {
     "end_time": "2024-11-01T10:47:53.477036Z",
     "start_time": "2024-11-01T10:47:53.473520Z"
    }
   },
   "cell_type": "code",
   "source": "liste3",
   "id": "b7bd2e2a20857e0c",
   "outputs": [
    {
     "data": {
      "text/plain": [
       "[22, 'neveau', 99, 111, 'surprise']"
      ]
     },
     "execution_count": 76,
     "metadata": {},
     "output_type": "execute_result"
    }
   ],
   "execution_count": 76
  },
  {
   "metadata": {
    "ExecuteTime": {
     "end_time": "2024-11-01T10:47:58.376153Z",
     "start_time": "2024-11-01T10:47:58.370968Z"
    }
   },
   "cell_type": "code",
   "source": "maliste",
   "id": "7bd6295a85b425d6",
   "outputs": [
    {
     "data": {
      "text/plain": [
       "[22, 'neveau', 99, 111, 'b']"
      ]
     },
     "execution_count": 77,
     "metadata": {},
     "output_type": "execute_result"
    }
   ],
   "execution_count": 77
  },
  {
   "metadata": {
    "ExecuteTime": {
     "end_time": "2024-11-01T10:48:46.328003Z",
     "start_time": "2024-11-01T10:48:46.323543Z"
    }
   },
   "cell_type": "code",
   "source": [
    "#3ème méthode de copie : avec le module copy\n",
    "import copy\n",
    "liste6 = copy.deepcopy(maliste)"
   ],
   "id": "b47c85f14ae7a3da",
   "outputs": [],
   "execution_count": 78
  },
  {
   "metadata": {
    "ExecuteTime": {
     "end_time": "2024-11-01T10:48:57.338347Z",
     "start_time": "2024-11-01T10:48:57.326271Z"
    }
   },
   "cell_type": "code",
   "source": "liste6 is maliste",
   "id": "6bc34d2d54f94b46",
   "outputs": [
    {
     "data": {
      "text/plain": [
       "False"
      ]
     },
     "execution_count": 79,
     "metadata": {},
     "output_type": "execute_result"
    }
   ],
   "execution_count": 79
  },
  {
   "metadata": {
    "ExecuteTime": {
     "end_time": "2024-11-01T10:50:48.175898Z",
     "start_time": "2024-11-01T10:50:48.167673Z"
    }
   },
   "cell_type": "code",
   "source": [
    "#matrice de deux ligne et 3 colone ou une liste qui contient deux autre liste\n",
    "var=[[1,2,3],[4,5,6]]"
   ],
   "id": "919ddb8bbf379760",
   "outputs": [],
   "execution_count": 80
  },
  {
   "metadata": {
    "ExecuteTime": {
     "end_time": "2024-11-01T10:51:24.802934Z",
     "start_time": "2024-11-01T10:51:24.798006Z"
    }
   },
   "cell_type": "code",
   "source": "var[0]",
   "id": "437823c2ea036d6e",
   "outputs": [
    {
     "data": {
      "text/plain": [
       "[1, 2, 3]"
      ]
     },
     "execution_count": 81,
     "metadata": {},
     "output_type": "execute_result"
    }
   ],
   "execution_count": 81
  },
  {
   "metadata": {
    "ExecuteTime": {
     "end_time": "2024-11-01T10:51:34.990563Z",
     "start_time": "2024-11-01T10:51:34.981458Z"
    }
   },
   "cell_type": "code",
   "source": "var[1]",
   "id": "a7f4a3fb141e51f9",
   "outputs": [
    {
     "data": {
      "text/plain": [
       "[4, 5, 6]"
      ]
     },
     "execution_count": 82,
     "metadata": {},
     "output_type": "execute_result"
    }
   ],
   "execution_count": 82
  },
  {
   "metadata": {
    "ExecuteTime": {
     "end_time": "2024-11-01T10:51:58.261049Z",
     "start_time": "2024-11-01T10:51:58.252954Z"
    }
   },
   "cell_type": "code",
   "source": "var[0][0]",
   "id": "bc9c17043d5f1723",
   "outputs": [
    {
     "data": {
      "text/plain": [
       "1"
      ]
     },
     "execution_count": 83,
     "metadata": {},
     "output_type": "execute_result"
    }
   ],
   "execution_count": 83
  },
  {
   "metadata": {
    "ExecuteTime": {
     "end_time": "2024-11-01T10:52:11.663817Z",
     "start_time": "2024-11-01T10:52:11.659350Z"
    }
   },
   "cell_type": "code",
   "source": "var[0][1]",
   "id": "97243509ab7d4b1",
   "outputs": [
    {
     "data": {
      "text/plain": [
       "2"
      ]
     },
     "execution_count": 85,
     "metadata": {},
     "output_type": "execute_result"
    }
   ],
   "execution_count": 85
  },
  {
   "metadata": {
    "ExecuteTime": {
     "end_time": "2024-11-01T10:52:21.884251Z",
     "start_time": "2024-11-01T10:52:21.877149Z"
    }
   },
   "cell_type": "code",
   "source": "var[0][2]",
   "id": "976d32e2af4b1fcb",
   "outputs": [
    {
     "data": {
      "text/plain": [
       "3"
      ]
     },
     "execution_count": 86,
     "metadata": {},
     "output_type": "execute_result"
    }
   ],
   "execution_count": 86
  },
  {
   "metadata": {
    "ExecuteTime": {
     "end_time": "2024-11-01T11:02:41.325702Z",
     "start_time": "2024-11-01T11:02:41.315541Z"
    }
   },
   "cell_type": "code",
   "source": "s1=\"bonjour\"",
   "id": "edb50a8e1824e69",
   "outputs": [],
   "execution_count": 87
  },
  {
   "metadata": {
    "ExecuteTime": {
     "end_time": "2024-11-01T11:04:26.811568Z",
     "start_time": "2024-11-01T11:04:26.806703Z"
    }
   },
   "cell_type": "code",
   "source": "s1[:3]",
   "id": "dbdcf1806751ba59",
   "outputs": [
    {
     "data": {
      "text/plain": [
       "'bon'"
      ]
     },
     "execution_count": 88,
     "metadata": {},
     "output_type": "execute_result"
    }
   ],
   "execution_count": 88
  },
  {
   "metadata": {
    "ExecuteTime": {
     "end_time": "2024-11-01T11:04:40.317670Z",
     "start_time": "2024-11-01T11:04:40.297552Z"
    }
   },
   "cell_type": "code",
   "source": "len(s1)",
   "id": "19a48eae85ba3c60",
   "outputs": [
    {
     "data": {
      "text/plain": [
       "7"
      ]
     },
     "execution_count": 89,
     "metadata": {},
     "output_type": "execute_result"
    }
   ],
   "execution_count": 89
  },
  {
   "metadata": {
    "ExecuteTime": {
     "end_time": "2024-11-01T11:05:01.630567Z",
     "start_time": "2024-11-01T11:05:01.616314Z"
    }
   },
   "cell_type": "code",
   "source": [
    "#error puisque la variable str unchangable\n",
    "s1[2]='z'"
   ],
   "id": "a3e683c518eae3a6",
   "outputs": [
    {
     "ename": "TypeError",
     "evalue": "'str' object does not support item assignment",
     "output_type": "error",
     "traceback": [
      "\u001B[1;31m---------------------------------------------------------------------------\u001B[0m",
      "\u001B[1;31mTypeError\u001B[0m                                 Traceback (most recent call last)",
      "Cell \u001B[1;32mIn[90], line 1\u001B[0m\n\u001B[1;32m----> 1\u001B[0m \u001B[43ms1\u001B[49m\u001B[43m[\u001B[49m\u001B[38;5;241;43m2\u001B[39;49m\u001B[43m]\u001B[49m\u001B[38;5;241m=\u001B[39m\u001B[38;5;124m'\u001B[39m\u001B[38;5;124mz\u001B[39m\u001B[38;5;124m'\u001B[39m\n",
      "\u001B[1;31mTypeError\u001B[0m: 'str' object does not support item assignment"
     ]
    }
   ],
   "execution_count": 90
  },
  {
   "metadata": {
    "ExecuteTime": {
     "end_time": "2024-11-01T11:07:24.502911Z",
     "start_time": "2024-11-01T11:07:24.496553Z"
    }
   },
   "cell_type": "code",
   "source": "'o' in s1",
   "id": "b228d6caac92b46b",
   "outputs": [
    {
     "data": {
      "text/plain": [
       "True"
      ]
     },
     "execution_count": 91,
     "metadata": {},
     "output_type": "execute_result"
    }
   ],
   "execution_count": 91
  },
  {
   "metadata": {
    "ExecuteTime": {
     "end_time": "2024-11-01T11:07:44.418719Z",
     "start_time": "2024-11-01T11:07:44.412194Z"
    }
   },
   "cell_type": "code",
   "source": "print(\"vive\\n l'inforrna\\ntique\")",
   "id": "836d0044d86370b0",
   "outputs": [
    {
     "name": "stdout",
     "output_type": "stream",
     "text": [
      "vive\n",
      " l'inforrna\n",
      "tique\n"
     ]
    }
   ],
   "execution_count": 92
  },
  {
   "metadata": {
    "ExecuteTime": {
     "end_time": "2024-11-01T11:08:05.199593Z",
     "start_time": "2024-11-01T11:08:05.193342Z"
    }
   },
   "cell_type": "code",
   "source": "\"ara\"==\"zygomatique\"",
   "id": "d31cf232a02233e6",
   "outputs": [
    {
     "data": {
      "text/plain": [
       "False"
      ]
     },
     "execution_count": 93,
     "metadata": {},
     "output_type": "execute_result"
    }
   ],
   "execution_count": 93
  },
  {
   "metadata": {
    "ExecuteTime": {
     "end_time": "2024-11-01T11:08:20.364148Z",
     "start_time": "2024-11-01T11:08:20.356790Z"
    }
   },
   "cell_type": "code",
   "source": "\"ara\"<\"zygornatique\"",
   "id": "d573efb68f8bcf2b",
   "outputs": [
    {
     "data": {
      "text/plain": [
       "True"
      ]
     },
     "execution_count": 94,
     "metadata": {},
     "output_type": "execute_result"
    }
   ],
   "execution_count": 94
  },
  {
   "metadata": {
    "ExecuteTime": {
     "end_time": "2024-11-01T11:08:36.335006Z",
     "start_time": "2024-11-01T11:08:36.315233Z"
    }
   },
   "cell_type": "code",
   "source": "\"ara\">\"zygornatique\"",
   "id": "919e835fc9cec5f8",
   "outputs": [
    {
     "data": {
      "text/plain": [
       "False"
      ]
     },
     "execution_count": 95,
     "metadata": {},
     "output_type": "execute_result"
    }
   ],
   "execution_count": 95
  },
  {
   "metadata": {
    "ExecuteTime": {
     "end_time": "2024-11-01T11:08:58.503594Z",
     "start_time": "2024-11-01T11:08:58.498671Z"
    }
   },
   "cell_type": "code",
   "source": "\"abscisse\"<\"ordonnée\"",
   "id": "bde3c5ee5e6e30e1",
   "outputs": [
    {
     "data": {
      "text/plain": [
       "True"
      ]
     },
     "execution_count": 96,
     "metadata": {},
     "output_type": "execute_result"
    }
   ],
   "execution_count": 96
  },
  {
   "metadata": {
    "ExecuteTime": {
     "end_time": "2024-11-01T11:09:12.359994Z",
     "start_time": "2024-11-01T11:09:12.353136Z"
    }
   },
   "cell_type": "code",
   "source": "\"abscisse\"==\"ordonnée\"",
   "id": "297dadd60ab75a6f",
   "outputs": [
    {
     "data": {
      "text/plain": [
       "False"
      ]
     },
     "execution_count": 97,
     "metadata": {},
     "output_type": "execute_result"
    }
   ],
   "execution_count": 97
  },
  {
   "metadata": {
    "ExecuteTime": {
     "end_time": "2024-11-01T11:09:20.993602Z",
     "start_time": "2024-11-01T11:09:20.982440Z"
    }
   },
   "cell_type": "code",
   "source": "\"abscisse\">\"ordonnée\"",
   "id": "144d1fec9792136",
   "outputs": [
    {
     "data": {
      "text/plain": [
       "False"
      ]
     },
     "execution_count": 98,
     "metadata": {},
     "output_type": "execute_result"
    }
   ],
   "execution_count": 98
  },
  {
   "metadata": {
    "ExecuteTime": {
     "end_time": "2024-11-01T11:28:23.266674Z",
     "start_time": "2024-11-01T11:28:23.246314Z"
    }
   },
   "cell_type": "code",
   "source": "maliste(2)",
   "id": "814824fd29f2ec4b",
   "outputs": [
    {
     "ename": "TypeError",
     "evalue": "'list' object is not callable",
     "output_type": "error",
     "traceback": [
      "\u001B[1;31m---------------------------------------------------------------------------\u001B[0m",
      "\u001B[1;31mTypeError\u001B[0m                                 Traceback (most recent call last)",
      "Cell \u001B[1;32mIn[99], line 1\u001B[0m\n\u001B[1;32m----> 1\u001B[0m \u001B[43mmaliste\u001B[49m\u001B[43m(\u001B[49m\u001B[38;5;241;43m2\u001B[39;49m\u001B[43m)\u001B[49m\n",
      "\u001B[1;31mTypeError\u001B[0m: 'list' object is not callable"
     ]
    }
   ],
   "execution_count": 99
  },
  {
   "metadata": {
    "ExecuteTime": {
     "end_time": "2024-11-01T11:28:55.780350Z",
     "start_time": "2024-11-01T11:28:55.771895Z"
    }
   },
   "cell_type": "code",
   "source": "maliste",
   "id": "6c7ce3fa728ac5d3",
   "outputs": [
    {
     "data": {
      "text/plain": [
       "[22, 'neveau', 99, 111, 'b']"
      ]
     },
     "execution_count": 100,
     "metadata": {},
     "output_type": "execute_result"
    }
   ],
   "execution_count": 100
  },
  {
   "metadata": {
    "ExecuteTime": {
     "end_time": "2024-11-01T11:29:25.325956Z",
     "start_time": "2024-11-01T11:29:25.313495Z"
    }
   },
   "cell_type": "code",
   "source": "maliste[2]",
   "id": "73229bcee5ceaf37",
   "outputs": [
    {
     "data": {
      "text/plain": [
       "99"
      ]
     },
     "execution_count": 101,
     "metadata": {},
     "output_type": "execute_result"
    }
   ],
   "execution_count": 101
  },
  {
   "metadata": {},
   "cell_type": "code",
   "outputs": [],
   "execution_count": null,
   "source": "",
   "id": "53aec029a8e03ce2"
  }
 ],
 "metadata": {
  "kernelspec": {
   "display_name": "Python 3",
   "language": "python",
   "name": "python3"
  },
  "language_info": {
   "codemirror_mode": {
    "name": "ipython",
    "version": 2
   },
   "file_extension": ".py",
   "mimetype": "text/x-python",
   "name": "python",
   "nbconvert_exporter": "python",
   "pygments_lexer": "ipython2",
   "version": "2.7.6"
  }
 },
 "nbformat": 4,
 "nbformat_minor": 5
}
